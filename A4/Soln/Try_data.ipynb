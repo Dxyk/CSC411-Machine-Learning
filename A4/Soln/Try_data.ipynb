{
 "cells": [
  {
   "cell_type": "markdown",
   "metadata": {},
   "source": [
    "# Try Data"
   ]
  },
  {
   "cell_type": "markdown",
   "metadata": {},
   "source": [
    "## Imports"
   ]
  },
  {
   "cell_type": "code",
   "execution_count": 1,
   "metadata": {
    "collapsed": true
   },
   "outputs": [],
   "source": [
    "from __future__ import print_function\n",
    "from collections import defaultdict\n",
    "from itertools import count\n",
    "import numpy as np\n",
    "import math\n",
    "import random\n",
    "import torch\n",
    "import torch.nn as nn\n",
    "import torch.nn.functional as F\n",
    "import torch.optim as optim\n",
    "import torch.distributions\n",
    "from torch.autograd import Variable\n"
   ]
  },
  {
   "cell_type": "markdown",
   "metadata": {},
   "source": [
    "## Fixed Data"
   ]
  },
  {
   "cell_type": "code",
   "execution_count": 2,
   "metadata": {
    "collapsed": true
   },
   "outputs": [],
   "source": [
    "# possible ways to win\n",
    "win_set = frozenset([(0, 1, 2), (3, 4, 5), (6, 7, 8),  # horizontal\n",
    "                     (0, 3, 6), (1, 4, 7), (2, 5, 8),  # vertical\n",
    "                     (0, 4, 8), (2, 4, 6)])  # diagonal\n",
    "# statuses\n",
    "STATUS_VALID_MOVE = 'valid'\n",
    "STATUS_INVALID_MOVE = 'inv'\n",
    "STATUS_WIN = 'win'\n",
    "STATUS_TIE = 'tie'\n",
    "STATUS_LOSE = 'lose'\n",
    "STATUS_DONE = 'done'"
   ]
  },
  {
   "cell_type": "code",
   "execution_count": 11,
   "metadata": {},
   "outputs": [
    {
     "name": "stdout",
     "output_type": "stream",
     "text": [
      "[0 1 2 0 1 2 0 1 2]\n"
     ]
    }
   ],
   "source": [
    "# data\n",
    "grid = np.array([i % 3 for i in range(9)])\n",
    "# grid = np.array([i for i in range(9)])\n",
    "print(grid)"
   ]
  },
  {
   "cell_type": "code",
   "execution_count": 12,
   "metadata": {
    "scrolled": true
   },
   "outputs": [
    {
     "name": "stdout",
     "output_type": "stream",
     "text": [
      "\n",
      " 0\n",
      " 1\n",
      " 2\n",
      " 0\n",
      " 1\n",
      " 2\n",
      " 0\n",
      " 1\n",
      " 2\n",
      "[torch.LongTensor of size 9]\n",
      "\n",
      "\n",
      "    0     1     2     0     1     2     0     1     2\n",
      "[torch.LongTensor of size 1x9]\n",
      "\n",
      "\n",
      "    1     0     0     1     0     0     1     0     0\n",
      "    0     1     0     0     1     0     0     1     0\n",
      "    0     0     1     0     0     1     0     0     1\n",
      "[torch.FloatTensor of size 3x9]\n",
      "\n",
      "\n",
      "\n",
      "Columns 0 to 12 \n",
      "    1     0     0     1     0     0     1     0     0     0     1     0     0\n",
      "\n",
      "Columns 13 to 25 \n",
      "    1     0     0     1     0     0     0     1     0     0     1     0     0\n",
      "\n",
      "Columns 26 to 26 \n",
      "    1\n",
      "[torch.FloatTensor of size 1x27]\n",
      "\n"
     ]
    }
   ],
   "source": [
    "new_grid = torch.from_numpy(grid).long()\n",
    "print(new_grid)\n",
    "new_grid = new_grid.unsqueeze(0)\n",
    "print(new_grid)\n",
    "\n",
    "new_grid = torch.zeros(3, 9).scatter_(0, new_grid, 1)\n",
    "print(new_grid)\n",
    "\n",
    "new_grid = new_grid.view(1, 27)\n",
    "print(new_grid)"
   ]
  },
  {
   "cell_type": "code",
   "execution_count": null,
   "metadata": {
    "collapsed": true
   },
   "outputs": [],
   "source": []
  }
 ],
 "metadata": {
  "kernelspec": {
   "display_name": "Python 2",
   "language": "python",
   "name": "python2"
  },
  "language_info": {
   "codemirror_mode": {
    "name": "ipython",
    "version": 2
   },
   "file_extension": ".py",
   "mimetype": "text/x-python",
   "name": "python",
   "nbconvert_exporter": "python",
   "pygments_lexer": "ipython2",
   "version": "2.7.14"
  }
 },
 "nbformat": 4,
 "nbformat_minor": 2
}
